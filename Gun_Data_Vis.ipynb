{
 "cells": [
  {
   "cell_type": "code",
   "execution_count": 1,
   "id": "482c23e1",
   "metadata": {},
   "outputs": [],
   "source": [
    "import pandas as pd\n",
    "import numpy as np\n",
    "import geopandas as gpd\n",
    "import matplotlib.pyplot as plt\n",
    "import plotly.express as px\n",
    "import json\n",
    "file_id = '~/downloads/gun_data_vis/shooting_1982-2023_cleaned1.csv'\n",
    "gun_data = pd.read_csv(file_id)"
   ]
  },
  {
   "cell_type": "code",
   "execution_count": 2,
   "id": "f19ed4bd",
   "metadata": {},
   "outputs": [
    {
     "data": {
      "text/plain": [
       "141"
      ]
     },
     "execution_count": 2,
     "metadata": {},
     "output_type": "execute_result"
    }
   ],
   "source": [
    "len(gun_data)"
   ]
  },
  {
   "cell_type": "markdown",
   "id": "da4d68dd",
   "metadata": {},
   "source": [
    "# Gun Violence Visualization Using Mass Shootings"
   ]
  },
  {
   "cell_type": "code",
   "execution_count": 3,
   "id": "22ab361f",
   "metadata": {},
   "outputs": [
    {
     "data": {
      "text/html": [
       "<div>\n",
       "<style scoped>\n",
       "    .dataframe tbody tr th:only-of-type {\n",
       "        vertical-align: middle;\n",
       "    }\n",
       "\n",
       "    .dataframe tbody tr th {\n",
       "        vertical-align: top;\n",
       "    }\n",
       "\n",
       "    .dataframe thead th {\n",
       "        text-align: right;\n",
       "    }\n",
       "</style>\n",
       "<table border=\"1\" class=\"dataframe\">\n",
       "  <thead>\n",
       "    <tr style=\"text-align: right;\">\n",
       "      <th></th>\n",
       "      <th>case</th>\n",
       "      <th>location</th>\n",
       "      <th>date</th>\n",
       "      <th>summary</th>\n",
       "      <th>fatalities</th>\n",
       "      <th>injured</th>\n",
       "      <th>total_victims</th>\n",
       "      <th>location.1</th>\n",
       "      <th>age_of_shooter</th>\n",
       "      <th>prior_signs_mental_health_issues</th>\n",
       "      <th>...</th>\n",
       "      <th>year</th>\n",
       "      <th>quarter</th>\n",
       "      <th>half</th>\n",
       "      <th>month_name</th>\n",
       "      <th>day_of_week</th>\n",
       "      <th>age_group</th>\n",
       "      <th>decade</th>\n",
       "      <th>name</th>\n",
       "      <th>current_age</th>\n",
       "      <th>description</th>\n",
       "    </tr>\n",
       "  </thead>\n",
       "  <tbody>\n",
       "    <tr>\n",
       "      <th>0</th>\n",
       "      <td>Nashville religious school shooting</td>\n",
       "      <td>Nashville, TN</td>\n",
       "      <td>2023-03-27</td>\n",
       "      <td>Audrey Hale, 28, who was a former student at t...</td>\n",
       "      <td>6</td>\n",
       "      <td>1</td>\n",
       "      <td>6</td>\n",
       "      <td>School</td>\n",
       "      <td>28</td>\n",
       "      <td>Unclear</td>\n",
       "      <td>...</td>\n",
       "      <td>2023</td>\n",
       "      <td>1</td>\n",
       "      <td>1</td>\n",
       "      <td>March</td>\n",
       "      <td>Monday</td>\n",
       "      <td>Early Adulthood</td>\n",
       "      <td>2020's</td>\n",
       "      <td>Audrey Hale</td>\n",
       "      <td>28</td>\n",
       "      <td>who was a former student at the private Coven...</td>\n",
       "    </tr>\n",
       "    <tr>\n",
       "      <th>1</th>\n",
       "      <td>Michigan State University shooting</td>\n",
       "      <td>East Lansing, Michigan</td>\n",
       "      <td>2023-02-13</td>\n",
       "      <td>Anthony D. McRae, 43, opened fire at Berkey Ha...</td>\n",
       "      <td>3</td>\n",
       "      <td>5</td>\n",
       "      <td>8</td>\n",
       "      <td>School</td>\n",
       "      <td>43</td>\n",
       "      <td>Unclear</td>\n",
       "      <td>...</td>\n",
       "      <td>2023</td>\n",
       "      <td>1</td>\n",
       "      <td>1</td>\n",
       "      <td>February</td>\n",
       "      <td>Monday</td>\n",
       "      <td>Middle Adulthood</td>\n",
       "      <td>2020's</td>\n",
       "      <td>Anthony D. McRae</td>\n",
       "      <td>43</td>\n",
       "      <td>opened fire at Berkey Hall and the MSU union</td>\n",
       "    </tr>\n",
       "    <tr>\n",
       "      <th>2</th>\n",
       "      <td>Half Moon Bay spree shooting</td>\n",
       "      <td>Half Moon Bay, California</td>\n",
       "      <td>2023-01-23</td>\n",
       "      <td>Chunli Zhao, 67, suspected of carrying out the...</td>\n",
       "      <td>7</td>\n",
       "      <td>1</td>\n",
       "      <td>8</td>\n",
       "      <td>Workplace</td>\n",
       "      <td>67</td>\n",
       "      <td>Unclear</td>\n",
       "      <td>...</td>\n",
       "      <td>2023</td>\n",
       "      <td>1</td>\n",
       "      <td>1</td>\n",
       "      <td>January</td>\n",
       "      <td>Monday</td>\n",
       "      <td>Old Age</td>\n",
       "      <td>2020's</td>\n",
       "      <td>Chunli Zhao</td>\n",
       "      <td>67</td>\n",
       "      <td>suspected of carrying out the attacks at a mu...</td>\n",
       "    </tr>\n",
       "    <tr>\n",
       "      <th>3</th>\n",
       "      <td>LA dance studio mass shooting</td>\n",
       "      <td>Monterey Park, California</td>\n",
       "      <td>2023-01-21</td>\n",
       "      <td>Huu Can Tran, 72, fled the scene in a white va...</td>\n",
       "      <td>11</td>\n",
       "      <td>10</td>\n",
       "      <td>21</td>\n",
       "      <td>Other</td>\n",
       "      <td>72</td>\n",
       "      <td>Yes</td>\n",
       "      <td>...</td>\n",
       "      <td>2023</td>\n",
       "      <td>1</td>\n",
       "      <td>1</td>\n",
       "      <td>January</td>\n",
       "      <td>Saturday</td>\n",
       "      <td>Old Age</td>\n",
       "      <td>2020's</td>\n",
       "      <td>Huu Can Tran</td>\n",
       "      <td>72</td>\n",
       "      <td>fled the scene in a white van and later shot ...</td>\n",
       "    </tr>\n",
       "    <tr>\n",
       "      <th>4</th>\n",
       "      <td>Virginia Walmart shooting</td>\n",
       "      <td>Chesapeake, Virginia</td>\n",
       "      <td>2022-11-22</td>\n",
       "      <td>Andre Bing, 31, who worked as a supervisor at ...</td>\n",
       "      <td>6</td>\n",
       "      <td>6</td>\n",
       "      <td>12</td>\n",
       "      <td>Workplace</td>\n",
       "      <td>31</td>\n",
       "      <td>Unclear</td>\n",
       "      <td>...</td>\n",
       "      <td>2022</td>\n",
       "      <td>4</td>\n",
       "      <td>2</td>\n",
       "      <td>November</td>\n",
       "      <td>Tuesday</td>\n",
       "      <td>Early Adulthood</td>\n",
       "      <td>2020's</td>\n",
       "      <td>Andre Bing</td>\n",
       "      <td>31</td>\n",
       "      <td>who worked as a supervisor at the store</td>\n",
       "    </tr>\n",
       "  </tbody>\n",
       "</table>\n",
       "<p>5 rows × 30 columns</p>\n",
       "</div>"
      ],
      "text/plain": [
       "                                  case                   location        date  \\\n",
       "0  Nashville religious school shooting              Nashville, TN  2023-03-27   \n",
       "1   Michigan State University shooting     East Lansing, Michigan  2023-02-13   \n",
       "2         Half Moon Bay spree shooting  Half Moon Bay, California  2023-01-23   \n",
       "3        LA dance studio mass shooting  Monterey Park, California  2023-01-21   \n",
       "4            Virginia Walmart shooting       Chesapeake, Virginia  2022-11-22   \n",
       "\n",
       "                                             summary  fatalities  injured  \\\n",
       "0  Audrey Hale, 28, who was a former student at t...           6        1   \n",
       "1  Anthony D. McRae, 43, opened fire at Berkey Ha...           3        5   \n",
       "2  Chunli Zhao, 67, suspected of carrying out the...           7        1   \n",
       "3  Huu Can Tran, 72, fled the scene in a white va...          11       10   \n",
       "4  Andre Bing, 31, who worked as a supervisor at ...           6        6   \n",
       "\n",
       "   total_victims location.1  age_of_shooter prior_signs_mental_health_issues  \\\n",
       "0              6     School              28                          Unclear   \n",
       "1              8     School              43                          Unclear   \n",
       "2              8  Workplace              67                          Unclear   \n",
       "3             21      Other              72                              Yes   \n",
       "4             12  Workplace              31                          Unclear   \n",
       "\n",
       "   ...  year quarter half month_name day_of_week         age_group  decade  \\\n",
       "0  ...  2023       1    1      March      Monday   Early Adulthood  2020's   \n",
       "1  ...  2023       1    1   February      Monday  Middle Adulthood  2020's   \n",
       "2  ...  2023       1    1    January      Monday           Old Age  2020's   \n",
       "3  ...  2023       1    1    January    Saturday           Old Age  2020's   \n",
       "4  ...  2022       4    2   November     Tuesday   Early Adulthood  2020's   \n",
       "\n",
       "               name  current_age  \\\n",
       "0       Audrey Hale           28   \n",
       "1  Anthony D. McRae           43   \n",
       "2       Chunli Zhao           67   \n",
       "3      Huu Can Tran           72   \n",
       "4        Andre Bing           31   \n",
       "\n",
       "                                         description  \n",
       "0   who was a former student at the private Coven...  \n",
       "1       opened fire at Berkey Hall and the MSU union  \n",
       "2   suspected of carrying out the attacks at a mu...  \n",
       "3   fled the scene in a white van and later shot ...  \n",
       "4            who worked as a supervisor at the store  \n",
       "\n",
       "[5 rows x 30 columns]"
      ]
     },
     "execution_count": 3,
     "metadata": {},
     "output_type": "execute_result"
    }
   ],
   "source": [
    "gun_data.head()"
   ]
  },
  {
   "cell_type": "markdown",
   "id": "336296ca",
   "metadata": {},
   "source": [
    "Country Regulations: \tRestrictive, Permissive or None (NaN)\n",
    "Estimate of Civilian Firearms: \tCivilian Firearms in Millions\n",
    "Computation Method:\t1 or 2 \n",
    "Registered Firearms: \t# of Firearms Registered to Civilians\n",
    "Unregistered Firearms: \t# of Unregistered Civilian Firearms \n",
    "Gun Death Rate:\tRate of Gun Deaths per Population\n",
    "Deaths by Firearm: \tDeaths In Millions\n",
    "Suicide by Firearm: \tSuicide In Millions\n",
    "Unintentional Deaths by Firearms: \tUnintentional Deaths using Firearms Per 100k \n",
    "Police Killings: \tDeaths Using Firearms by Police\n",
    "Rate Police Killings: \tRate of Police Killings Per 10 M \n",
    "Data Year Police Killing: \tYear Data was Pulled\n"
   ]
  },
  {
   "cell_type": "markdown",
   "id": "61c70a8f",
   "metadata": {},
   "source": [
    "## Overview of CSV File: 'gun_data' "
   ]
  },
  {
   "cell_type": "markdown",
   "id": "7d85de0f",
   "metadata": {},
   "source": [
    "### We have labeled and cleaned the data in order for Python to better search through our file."
   ]
  },
  {
   "cell_type": "code",
   "execution_count": 4,
   "id": "3fa68d2d",
   "metadata": {},
   "outputs": [
    {
     "data": {
      "text/plain": [
       "case                                141\n",
       "location                            141\n",
       "date                                141\n",
       "summary                             141\n",
       "fatalities                          141\n",
       "injured                             141\n",
       "total_victims                       141\n",
       "location.1                          141\n",
       "age_of_shooter                      141\n",
       "prior_signs_mental_health_issues    141\n",
       "mental_health_details               141\n",
       "weapons_obtained_legally            141\n",
       "where_obtained                      141\n",
       "weapon_type                         141\n",
       "weapon_details                      140\n",
       "race                                141\n",
       "gender                              141\n",
       "latitude                            141\n",
       "longitude                           141\n",
       "type                                141\n",
       "year                                141\n",
       "quarter                             141\n",
       "half                                141\n",
       "month_name                          141\n",
       "day_of_week                         141\n",
       "age_group                           139\n",
       "decade                              141\n",
       "name                                141\n",
       "current_age                         140\n",
       "description                         139\n",
       "dtype: int64"
      ]
     },
     "execution_count": 4,
     "metadata": {},
     "output_type": "execute_result"
    }
   ],
   "source": [
    "gun_data.count()"
   ]
  },
  {
   "cell_type": "markdown",
   "id": "f7792316",
   "metadata": {},
   "source": [
    "### In our data, we are missing less than a few pieces in some categories. This will have on affect on our data visualization. "
   ]
  },
  {
   "cell_type": "markdown",
   "id": "eecaf84d",
   "metadata": {},
   "source": [
    "## Describing a Brief Overview of Our Data"
   ]
  },
  {
   "cell_type": "markdown",
   "id": "db4c3ea7",
   "metadata": {},
   "source": [
    "### Filling Empty or 'Missing' Data"
   ]
  },
  {
   "cell_type": "code",
   "execution_count": 5,
   "id": "09cb17fd",
   "metadata": {
    "scrolled": false
   },
   "outputs": [
    {
     "data": {
      "text/plain": [
       "case                                0\n",
       "location                            0\n",
       "date                                0\n",
       "summary                             0\n",
       "fatalities                          0\n",
       "injured                             0\n",
       "total_victims                       0\n",
       "location.1                          0\n",
       "age_of_shooter                      0\n",
       "prior_signs_mental_health_issues    0\n",
       "mental_health_details               0\n",
       "weapons_obtained_legally            0\n",
       "where_obtained                      0\n",
       "weapon_type                         0\n",
       "weapon_details                      1\n",
       "race                                0\n",
       "gender                              0\n",
       "latitude                            0\n",
       "longitude                           0\n",
       "type                                0\n",
       "year                                0\n",
       "quarter                             0\n",
       "half                                0\n",
       "month_name                          0\n",
       "day_of_week                         0\n",
       "age_group                           2\n",
       "decade                              0\n",
       "name                                0\n",
       "current_age                         1\n",
       "description                         2\n",
       "dtype: int64"
      ]
     },
     "execution_count": 5,
     "metadata": {},
     "output_type": "execute_result"
    }
   ],
   "source": [
    "gun_data.isnull().sum()"
   ]
  },
  {
   "cell_type": "code",
   "execution_count": 25,
   "id": "dc007d07",
   "metadata": {},
   "outputs": [
    {
     "data": {
      "text/plain": [
       "0       Early Adulthood\n",
       "1      Middle Adulthood\n",
       "2               Old Age\n",
       "3               Old Age\n",
       "4       Early Adulthood\n",
       "             ...       \n",
       "136    Middle Adulthood\n",
       "137    Middle Adulthood\n",
       "138    Middle Adulthood\n",
       "139     Early Adulthood\n",
       "140    Middle Adulthood\n",
       "Name: age_group, Length: 141, dtype: object"
      ]
     },
     "execution_count": 25,
     "metadata": {},
     "output_type": "execute_result"
    }
   ],
   "source": [
    "gun_data.age_group.fillna({'age_group': 'Unknown'})"
   ]
  },
  {
   "cell_type": "code",
   "execution_count": 41,
   "id": "8583d3b7",
   "metadata": {},
   "outputs": [],
   "source": [
    "gun_data = gun_data.fillna({'weapon_details': 'UNK' , \n",
    "                              'current_age':'gun_data.mean()',\n",
    "                             'age_group': 'Pl'})"
   ]
  },
  {
   "cell_type": "code",
   "execution_count": 67,
   "id": "5d32121a",
   "metadata": {},
   "outputs": [
    {
     "data": {
      "text/plain": [
       "case                                0\n",
       "location                            0\n",
       "date                                0\n",
       "summary                             0\n",
       "fatalities                          0\n",
       "injured                             0\n",
       "total_victims                       0\n",
       "location.1                          0\n",
       "age_of_shooter                      0\n",
       "prior_signs_mental_health_issues    0\n",
       "mental_health_details               0\n",
       "weapons_obtained_legally            0\n",
       "where_obtained                      0\n",
       "weapon_type                         0\n",
       "weapon_details                      0\n",
       "race                                0\n",
       "gender                              0\n",
       "latitude                            0\n",
       "longitude                           0\n",
       "type                                0\n",
       "year                                0\n",
       "quarter                             0\n",
       "half                                0\n",
       "month_name                          0\n",
       "day_of_week                         0\n",
       "age_group                           0\n",
       "decade                              0\n",
       "name                                0\n",
       "current_age                         0\n",
       "description                         2\n",
       "geometry                            0\n",
       "dtype: int64"
      ]
     },
     "execution_count": 67,
     "metadata": {},
     "output_type": "execute_result"
    }
   ],
   "source": [
    "gun_data.isnull().sum()"
   ]
  },
  {
   "cell_type": "markdown",
   "id": "b4c7cb95",
   "metadata": {},
   "source": [
    "## Describe function will show categories using 0 instead of NULL."
   ]
  },
  {
   "cell_type": "code",
   "execution_count": 68,
   "id": "15698d31",
   "metadata": {},
   "outputs": [
    {
     "data": {
      "text/html": [
       "<div>\n",
       "<style scoped>\n",
       "    .dataframe tbody tr th:only-of-type {\n",
       "        vertical-align: middle;\n",
       "    }\n",
       "\n",
       "    .dataframe tbody tr th {\n",
       "        vertical-align: top;\n",
       "    }\n",
       "\n",
       "    .dataframe thead th {\n",
       "        text-align: right;\n",
       "    }\n",
       "</style>\n",
       "<table border=\"1\" class=\"dataframe\">\n",
       "  <thead>\n",
       "    <tr style=\"text-align: right;\">\n",
       "      <th></th>\n",
       "      <th>fatalities</th>\n",
       "      <th>injured</th>\n",
       "      <th>total_victims</th>\n",
       "      <th>age_of_shooter</th>\n",
       "      <th>latitude</th>\n",
       "      <th>longitude</th>\n",
       "      <th>year</th>\n",
       "      <th>quarter</th>\n",
       "      <th>half</th>\n",
       "    </tr>\n",
       "  </thead>\n",
       "  <tbody>\n",
       "    <tr>\n",
       "      <th>count</th>\n",
       "      <td>141.000000</td>\n",
       "      <td>141.000000</td>\n",
       "      <td>141.000000</td>\n",
       "      <td>141.000000</td>\n",
       "      <td>141.000000</td>\n",
       "      <td>141.000000</td>\n",
       "      <td>141.000000</td>\n",
       "      <td>141.000000</td>\n",
       "      <td>141.000000</td>\n",
       "    </tr>\n",
       "    <tr>\n",
       "      <th>mean</th>\n",
       "      <td>7.808511</td>\n",
       "      <td>11.248227</td>\n",
       "      <td>19.049645</td>\n",
       "      <td>33.531915</td>\n",
       "      <td>37.400822</td>\n",
       "      <td>-96.205593</td>\n",
       "      <td>2010.382979</td>\n",
       "      <td>2.404255</td>\n",
       "      <td>1.460993</td>\n",
       "    </tr>\n",
       "    <tr>\n",
       "      <th>std</th>\n",
       "      <td>7.463162</td>\n",
       "      <td>46.571935</td>\n",
       "      <td>51.737569</td>\n",
       "      <td>13.726696</td>\n",
       "      <td>5.441899</td>\n",
       "      <td>17.642771</td>\n",
       "      <td>10.796600</td>\n",
       "      <td>1.140042</td>\n",
       "      <td>0.500253</td>\n",
       "    </tr>\n",
       "    <tr>\n",
       "      <th>min</th>\n",
       "      <td>3.000000</td>\n",
       "      <td>0.000000</td>\n",
       "      <td>3.000000</td>\n",
       "      <td>0.000000</td>\n",
       "      <td>21.320063</td>\n",
       "      <td>-157.876462</td>\n",
       "      <td>1982.000000</td>\n",
       "      <td>1.000000</td>\n",
       "      <td>1.000000</td>\n",
       "    </tr>\n",
       "    <tr>\n",
       "      <th>25%</th>\n",
       "      <td>4.000000</td>\n",
       "      <td>1.000000</td>\n",
       "      <td>6.000000</td>\n",
       "      <td>22.000000</td>\n",
       "      <td>33.850116</td>\n",
       "      <td>-117.043081</td>\n",
       "      <td>2005.000000</td>\n",
       "      <td>1.000000</td>\n",
       "      <td>1.000000</td>\n",
       "    </tr>\n",
       "    <tr>\n",
       "      <th>50%</th>\n",
       "      <td>6.000000</td>\n",
       "      <td>3.000000</td>\n",
       "      <td>10.000000</td>\n",
       "      <td>32.000000</td>\n",
       "      <td>38.135992</td>\n",
       "      <td>-88.902892</td>\n",
       "      <td>2014.000000</td>\n",
       "      <td>2.000000</td>\n",
       "      <td>1.000000</td>\n",
       "    </tr>\n",
       "    <tr>\n",
       "      <th>75%</th>\n",
       "      <td>8.000000</td>\n",
       "      <td>10.000000</td>\n",
       "      <td>17.000000</td>\n",
       "      <td>43.000000</td>\n",
       "      <td>41.412323</td>\n",
       "      <td>-81.376777</td>\n",
       "      <td>2018.000000</td>\n",
       "      <td>3.000000</td>\n",
       "      <td>2.000000</td>\n",
       "    </tr>\n",
       "    <tr>\n",
       "      <th>max</th>\n",
       "      <td>58.000000</td>\n",
       "      <td>546.000000</td>\n",
       "      <td>604.000000</td>\n",
       "      <td>72.000000</td>\n",
       "      <td>48.461367</td>\n",
       "      <td>-71.075913</td>\n",
       "      <td>2023.000000</td>\n",
       "      <td>4.000000</td>\n",
       "      <td>2.000000</td>\n",
       "    </tr>\n",
       "  </tbody>\n",
       "</table>\n",
       "</div>"
      ],
      "text/plain": [
       "       fatalities     injured  total_victims  age_of_shooter    latitude  \\\n",
       "count  141.000000  141.000000     141.000000      141.000000  141.000000   \n",
       "mean     7.808511   11.248227      19.049645       33.531915   37.400822   \n",
       "std      7.463162   46.571935      51.737569       13.726696    5.441899   \n",
       "min      3.000000    0.000000       3.000000        0.000000   21.320063   \n",
       "25%      4.000000    1.000000       6.000000       22.000000   33.850116   \n",
       "50%      6.000000    3.000000      10.000000       32.000000   38.135992   \n",
       "75%      8.000000   10.000000      17.000000       43.000000   41.412323   \n",
       "max     58.000000  546.000000     604.000000       72.000000   48.461367   \n",
       "\n",
       "        longitude         year     quarter        half  \n",
       "count  141.000000   141.000000  141.000000  141.000000  \n",
       "mean   -96.205593  2010.382979    2.404255    1.460993  \n",
       "std     17.642771    10.796600    1.140042    0.500253  \n",
       "min   -157.876462  1982.000000    1.000000    1.000000  \n",
       "25%   -117.043081  2005.000000    1.000000    1.000000  \n",
       "50%    -88.902892  2014.000000    2.000000    1.000000  \n",
       "75%    -81.376777  2018.000000    3.000000    2.000000  \n",
       "max    -71.075913  2023.000000    4.000000    2.000000  "
      ]
     },
     "execution_count": 68,
     "metadata": {},
     "output_type": "execute_result"
    }
   ],
   "source": [
    "gun_data.describe()"
   ]
  },
  {
   "cell_type": "markdown",
   "id": "4e54dd17",
   "metadata": {},
   "source": [
    "#### This describe function is very powerful as it shows us a quick overview of the mean, std, min, max, and other useful percentages. "
   ]
  },
  {
   "cell_type": "markdown",
   "id": "2f381264",
   "metadata": {},
   "source": [
    "#### The table above shows that the min amount of fatalities is 3 and the max is 58. It also shows the min age as and the max as 72 years old. "
   ]
  },
  {
   "cell_type": "markdown",
   "id": "3bddc4d1",
   "metadata": {},
   "source": [
    "## Visualizing Age Range Data "
   ]
  },
  {
   "cell_type": "markdown",
   "id": "ee40819a",
   "metadata": {},
   "source": [
    "### Creating a new list containing instances of age ranges from NIH."
   ]
  },
  {
   "cell_type": "code",
   "execution_count": 109,
   "id": "c4363a66",
   "metadata": {},
   "outputs": [],
   "source": [
    "np.array(gun_data.age_of_shooter).sort()\n",
    "ages = sorted(gun_data.age_of_shooter)\n",
    "teenage = 0\n",
    "early_adulthood = 0\n",
    "middle_adulthood = 0\n",
    "old_age = 0\n",
    "for age in ages:\n",
    "    if age > 0 and age < 20:\n",
    "        teenage += 1\n",
    "    elif age > 19 and age < 30:\n",
    "        early_adulthood += 1\n",
    "    elif age > 29 and age < 60:\n",
    "        middle_adulthood += 1\n",
    "    elif age > 59:\n",
    "        old_age += 1"
   ]
  },
  {
   "cell_type": "code",
   "execution_count": 110,
   "id": "5223a985",
   "metadata": {},
   "outputs": [
    {
     "data": {
      "text/plain": [
       "['Teenage', 'Early Adulthood', 'Middle Adulthood', 'Old Age']"
      ]
     },
     "execution_count": 110,
     "metadata": {},
     "output_type": "execute_result"
    }
   ],
   "source": [
    "x = [teenage, early_adulthood, middle_adulthood, old_age]\n",
    "labels = ['Teenage','Early Adulthood', 'Middle Adulthood', 'Old Age']\n",
    "labels"
   ]
  },
  {
   "cell_type": "code",
   "execution_count": 115,
   "id": "54c048c4",
   "metadata": {},
   "outputs": [
    {
     "data": {
      "text/plain": [
       "[16, 48, 69, 6]"
      ]
     },
     "execution_count": 115,
     "metadata": {},
     "output_type": "execute_result"
    }
   ],
   "source": [
    "x"
   ]
  },
  {
   "cell_type": "code",
   "execution_count": 114,
   "id": "4f252cfb",
   "metadata": {},
   "outputs": [
    {
     "data": {
      "image/png": "[encoded data removed]",
      "text/plain": [
       "<Figure size 640x480 with 1 Axes>"
      ]
     },
     "metadata": {},
     "output_type": "display_data"
    }
   ],
   "source": [
    "plt.pie(x, labels = labels)\n",
    "plt.title('Ages of Perpetrators')\n",
    "plt.tight_layout()"
   ]
  },
  {
   "cell_type": "code",
   "execution_count": 135,
   "id": "2ad9dd6f",
   "metadata": {},
   "outputs": [],
   "source": [
    "np.array(gun_data.weapons_obtained_legally).sort()\n",
    "legals = sorted(gun_data.weapons_obtained_legally)"
   ]
  },
  {
   "cell_type": "code",
   "execution_count": 136,
   "id": "ff0282fe",
   "metadata": {},
   "outputs": [],
   "source": [
    "legally_obtained = 0\n",
    "unknown = 0\n",
    "illegally_obtained = 0\n",
    "for legal in legals:\n",
    "    if legal == 'No':\n",
    "        illegally_obtained += 1\n",
    "    elif legal == 'Yes':\n",
    "        legally_obtained += 1\n",
    "    else:\n",
    "        unknown += 1\n",
    "lo = [legally_obtained, illegally_obtained, unknown]\n",
    "label2 = ['Legally Obtained', 'Illegally Obtained', 'Unknown']"
   ]
  },
  {
   "cell_type": "markdown",
   "id": "6cbde31e",
   "metadata": {},
   "source": [
    "## Vast majority of weapons obtained were legally obtained."
   ]
  },
  {
   "cell_type": "code",
   "execution_count": 137,
   "id": "5a7d915e",
   "metadata": {},
   "outputs": [
    {
     "data": {
      "image/png": "[encoded data removed]",
      "text/plain": [
       "<Figure size 640x480 with 1 Axes>"
      ]
     },
     "metadata": {},
     "output_type": "display_data"
    }
   ],
   "source": [
    "plt.pie(lo, labels = label2)\n",
    "plt.title('Legality of Weapons Used')\n",
    "plt.tight_layout()"
   ]
  },
  {
   "cell_type": "code",
   "execution_count": 11,
   "id": "3369997d",
   "metadata": {},
   "outputs": [
    {
     "data": {
      "text/plain": [
       "count                 139\n",
       "unique                  4\n",
       "top       Early Adulthood\n",
       "freq                   79\n",
       "Name: age_group, dtype: object"
      ]
     },
     "execution_count": 11,
     "metadata": {},
     "output_type": "execute_result"
    }
   ],
   "source": [
    "gun_data.age_group.describe()"
   ]
  },
  {
   "cell_type": "code",
   "execution_count": 12,
   "id": "027b04ed",
   "metadata": {},
   "outputs": [
    {
     "data": {
      "text/plain": [
       "count                            141\n",
       "unique                           130\n",
       "top       Colorado Springs, Colorado\n",
       "freq                               3\n",
       "Name: location, dtype: object"
      ]
     },
     "execution_count": 12,
     "metadata": {},
     "output_type": "execute_result"
    }
   ],
   "source": [
    "gun_data.location.describe()"
   ]
  },
  {
   "cell_type": "code",
   "execution_count": 13,
   "id": "70c49978",
   "metadata": {},
   "outputs": [],
   "source": [
    "gun_data_geo = gpd.GeoDataFrame(gun_data, geometry = gpd.points_from_xy(gun_data.longitude, gun_data.latitude))"
   ]
  },
  {
   "cell_type": "code",
   "execution_count": 14,
   "id": "cefd7c71",
   "metadata": {},
   "outputs": [
    {
     "data": {
      "text/html": [
       "<div>\n",
       "<style scoped>\n",
       "    .dataframe tbody tr th:only-of-type {\n",
       "        vertical-align: middle;\n",
       "    }\n",
       "\n",
       "    .dataframe tbody tr th {\n",
       "        vertical-align: top;\n",
       "    }\n",
       "\n",
       "    .dataframe thead th {\n",
       "        text-align: right;\n",
       "    }\n",
       "</style>\n",
       "<table border=\"1\" class=\"dataframe\">\n",
       "  <thead>\n",
       "    <tr style=\"text-align: right;\">\n",
       "      <th></th>\n",
       "      <th>State</th>\n",
       "      <th>State_Code</th>\n",
       "      <th>Firearm_Type_Law</th>\n",
       "      <th>Background_check</th>\n",
       "    </tr>\n",
       "  </thead>\n",
       "  <tbody>\n",
       "    <tr>\n",
       "      <th>0</th>\n",
       "      <td>Alabama</td>\n",
       "      <td>AL</td>\n",
       "      <td>None</td>\n",
       "      <td>None</td>\n",
       "    </tr>\n",
       "    <tr>\n",
       "      <th>1</th>\n",
       "      <td>Alaska</td>\n",
       "      <td>AK</td>\n",
       "      <td>None</td>\n",
       "      <td>None</td>\n",
       "    </tr>\n",
       "    <tr>\n",
       "      <th>2</th>\n",
       "      <td>Arizona</td>\n",
       "      <td>AZ</td>\n",
       "      <td>None</td>\n",
       "      <td>None</td>\n",
       "    </tr>\n",
       "    <tr>\n",
       "      <th>3</th>\n",
       "      <td>Arkansas</td>\n",
       "      <td>AR</td>\n",
       "      <td>None</td>\n",
       "      <td>None</td>\n",
       "    </tr>\n",
       "    <tr>\n",
       "      <th>4</th>\n",
       "      <td>California</td>\n",
       "      <td>CA</td>\n",
       "      <td>All firearms (handguns, rifles, and shotguns)</td>\n",
       "      <td>Point-of-sale</td>\n",
       "    </tr>\n",
       "    <tr>\n",
       "      <th>5</th>\n",
       "      <td>Colorado</td>\n",
       "      <td>CO</td>\n",
       "      <td>All firearms (handguns, rifles, and shotguns)</td>\n",
       "      <td>Point-of-sale</td>\n",
       "    </tr>\n",
       "    <tr>\n",
       "      <th>6</th>\n",
       "      <td>Connecticut</td>\n",
       "      <td>CT</td>\n",
       "      <td>All firearms (handguns, rifles, and shotguns)</td>\n",
       "      <td>Permit to purchase and point-of-sale</td>\n",
       "    </tr>\n",
       "    <tr>\n",
       "      <th>7</th>\n",
       "      <td>Delaware</td>\n",
       "      <td>DE</td>\n",
       "      <td>All firearms (handguns, rifles, and shotguns)</td>\n",
       "      <td>Point-of-sale</td>\n",
       "    </tr>\n",
       "    <tr>\n",
       "      <th>8</th>\n",
       "      <td>Florida</td>\n",
       "      <td>FL</td>\n",
       "      <td>None</td>\n",
       "      <td>None</td>\n",
       "    </tr>\n",
       "    <tr>\n",
       "      <th>9</th>\n",
       "      <td>Georgia</td>\n",
       "      <td>GA</td>\n",
       "      <td>None</td>\n",
       "      <td>None</td>\n",
       "    </tr>\n",
       "    <tr>\n",
       "      <th>10</th>\n",
       "      <td>Hawaii</td>\n",
       "      <td>HI</td>\n",
       "      <td>All firearms (handguns, rifles, and shotguns)</td>\n",
       "      <td>Permit to purchase</td>\n",
       "    </tr>\n",
       "    <tr>\n",
       "      <th>11</th>\n",
       "      <td>Idaho</td>\n",
       "      <td>ID</td>\n",
       "      <td>None</td>\n",
       "      <td>None</td>\n",
       "    </tr>\n",
       "    <tr>\n",
       "      <th>12</th>\n",
       "      <td>Illinois</td>\n",
       "      <td>IL</td>\n",
       "      <td>All firearms (handguns, rifles, and shotguns)</td>\n",
       "      <td>Permit to purchase and point-of-sale</td>\n",
       "    </tr>\n",
       "    <tr>\n",
       "      <th>13</th>\n",
       "      <td>Indiana</td>\n",
       "      <td>IN</td>\n",
       "      <td>None</td>\n",
       "      <td>None</td>\n",
       "    </tr>\n",
       "    <tr>\n",
       "      <th>14</th>\n",
       "      <td>Iowa</td>\n",
       "      <td>IA</td>\n",
       "      <td>None</td>\n",
       "      <td>None</td>\n",
       "    </tr>\n",
       "    <tr>\n",
       "      <th>15</th>\n",
       "      <td>Kansas</td>\n",
       "      <td>KS</td>\n",
       "      <td>None</td>\n",
       "      <td>None</td>\n",
       "    </tr>\n",
       "    <tr>\n",
       "      <th>16</th>\n",
       "      <td>Kentucky</td>\n",
       "      <td>KY</td>\n",
       "      <td>None</td>\n",
       "      <td>None</td>\n",
       "    </tr>\n",
       "    <tr>\n",
       "      <th>17</th>\n",
       "      <td>Louisiana</td>\n",
       "      <td>LA</td>\n",
       "      <td>None</td>\n",
       "      <td>None</td>\n",
       "    </tr>\n",
       "    <tr>\n",
       "      <th>18</th>\n",
       "      <td>Maine</td>\n",
       "      <td>ME</td>\n",
       "      <td>None</td>\n",
       "      <td>None</td>\n",
       "    </tr>\n",
       "    <tr>\n",
       "      <th>19</th>\n",
       "      <td>Maryland</td>\n",
       "      <td>MD</td>\n",
       "      <td>All firearms (handguns, rifles, and shotguns)</td>\n",
       "      <td>Permit to purchase (for handguns) and point-of...</td>\n",
       "    </tr>\n",
       "    <tr>\n",
       "      <th>20</th>\n",
       "      <td>Massachusetts</td>\n",
       "      <td>MA</td>\n",
       "      <td>All firearms (handguns, rifles, and shotguns)</td>\n",
       "      <td>Permit to purchase</td>\n",
       "    </tr>\n",
       "    <tr>\n",
       "      <th>21</th>\n",
       "      <td>Michigan</td>\n",
       "      <td>MI</td>\n",
       "      <td>All firearms (handguns, rifles, and shotguns)</td>\n",
       "      <td>Permit to purchase</td>\n",
       "    </tr>\n",
       "    <tr>\n",
       "      <th>22</th>\n",
       "      <td>Minnesota</td>\n",
       "      <td>MN</td>\n",
       "      <td>None</td>\n",
       "      <td>None</td>\n",
       "    </tr>\n",
       "    <tr>\n",
       "      <th>23</th>\n",
       "      <td>Mississippi</td>\n",
       "      <td>MS</td>\n",
       "      <td>None</td>\n",
       "      <td>None</td>\n",
       "    </tr>\n",
       "    <tr>\n",
       "      <th>24</th>\n",
       "      <td>Missouri</td>\n",
       "      <td>MO</td>\n",
       "      <td>None</td>\n",
       "      <td>None</td>\n",
       "    </tr>\n",
       "    <tr>\n",
       "      <th>25</th>\n",
       "      <td>Montana</td>\n",
       "      <td>MT</td>\n",
       "      <td>None</td>\n",
       "      <td>None</td>\n",
       "    </tr>\n",
       "    <tr>\n",
       "      <th>26</th>\n",
       "      <td>Nebraska</td>\n",
       "      <td>NE</td>\n",
       "      <td>Handguns only</td>\n",
       "      <td>Permit to purchase</td>\n",
       "    </tr>\n",
       "    <tr>\n",
       "      <th>27</th>\n",
       "      <td>Nevada</td>\n",
       "      <td>NV</td>\n",
       "      <td>All firearms (handguns, rifles, and shotguns)</td>\n",
       "      <td>Point-of-sale</td>\n",
       "    </tr>\n",
       "    <tr>\n",
       "      <th>28</th>\n",
       "      <td>New Hampshire</td>\n",
       "      <td>NH</td>\n",
       "      <td>None</td>\n",
       "      <td>None</td>\n",
       "    </tr>\n",
       "    <tr>\n",
       "      <th>29</th>\n",
       "      <td>New Jersey</td>\n",
       "      <td>NJ</td>\n",
       "      <td>All firearms (handguns, rifles, and shotguns)</td>\n",
       "      <td>Permit to purchase and point-of-sale</td>\n",
       "    </tr>\n",
       "    <tr>\n",
       "      <th>30</th>\n",
       "      <td>New Mexico</td>\n",
       "      <td>NM</td>\n",
       "      <td>All firearms (handguns, rifles, and shotguns)</td>\n",
       "      <td>Point-of-sale</td>\n",
       "    </tr>\n",
       "    <tr>\n",
       "      <th>31</th>\n",
       "      <td>New York</td>\n",
       "      <td>NY</td>\n",
       "      <td>All firearms (handguns, rifles, and shotguns)</td>\n",
       "      <td>Permit to purchase (for handguns and semiautom...</td>\n",
       "    </tr>\n",
       "    <tr>\n",
       "      <th>32</th>\n",
       "      <td>North Carolina</td>\n",
       "      <td>NC</td>\n",
       "      <td>None</td>\n",
       "      <td>None</td>\n",
       "    </tr>\n",
       "    <tr>\n",
       "      <th>33</th>\n",
       "      <td>North Dakota</td>\n",
       "      <td>ND</td>\n",
       "      <td>None</td>\n",
       "      <td>None</td>\n",
       "    </tr>\n",
       "    <tr>\n",
       "      <th>34</th>\n",
       "      <td>Ohio</td>\n",
       "      <td>OH</td>\n",
       "      <td>None</td>\n",
       "      <td>None</td>\n",
       "    </tr>\n",
       "    <tr>\n",
       "      <th>35</th>\n",
       "      <td>Oklahoma</td>\n",
       "      <td>OK</td>\n",
       "      <td>None</td>\n",
       "      <td>None</td>\n",
       "    </tr>\n",
       "    <tr>\n",
       "      <th>36</th>\n",
       "      <td>Oregon</td>\n",
       "      <td>OR</td>\n",
       "      <td>All firearms (handguns, rifles, and shotguns)</td>\n",
       "      <td>Permit to purchase and point-of-sale</td>\n",
       "    </tr>\n",
       "    <tr>\n",
       "      <th>37</th>\n",
       "      <td>Pennsylvania</td>\n",
       "      <td>PA</td>\n",
       "      <td>Handguns only</td>\n",
       "      <td>Point-of-sale</td>\n",
       "    </tr>\n",
       "    <tr>\n",
       "      <th>38</th>\n",
       "      <td>Rhode Island</td>\n",
       "      <td>RI</td>\n",
       "      <td>All firearms (handguns, rifles, and shotguns)</td>\n",
       "      <td>Point-of-sale</td>\n",
       "    </tr>\n",
       "    <tr>\n",
       "      <th>39</th>\n",
       "      <td>South Carolina</td>\n",
       "      <td>SC</td>\n",
       "      <td>None</td>\n",
       "      <td>None</td>\n",
       "    </tr>\n",
       "    <tr>\n",
       "      <th>40</th>\n",
       "      <td>South Dakota</td>\n",
       "      <td>SD</td>\n",
       "      <td>None</td>\n",
       "      <td>None</td>\n",
       "    </tr>\n",
       "    <tr>\n",
       "      <th>41</th>\n",
       "      <td>Tennessee</td>\n",
       "      <td>TN</td>\n",
       "      <td>None</td>\n",
       "      <td>None</td>\n",
       "    </tr>\n",
       "    <tr>\n",
       "      <th>42</th>\n",
       "      <td>Texas</td>\n",
       "      <td>TX</td>\n",
       "      <td>None</td>\n",
       "      <td>None</td>\n",
       "    </tr>\n",
       "    <tr>\n",
       "      <th>43</th>\n",
       "      <td>Utah</td>\n",
       "      <td>UT</td>\n",
       "      <td>None</td>\n",
       "      <td>None</td>\n",
       "    </tr>\n",
       "    <tr>\n",
       "      <th>44</th>\n",
       "      <td>Vermont</td>\n",
       "      <td>VT</td>\n",
       "      <td>All firearms (handguns, rifles, and shotguns)</td>\n",
       "      <td>Point-of-sale</td>\n",
       "    </tr>\n",
       "    <tr>\n",
       "      <th>45</th>\n",
       "      <td>Virginia</td>\n",
       "      <td>VA</td>\n",
       "      <td>All firearms (handguns, rifles, and shotguns)</td>\n",
       "      <td>Point-of-sale</td>\n",
       "    </tr>\n",
       "    <tr>\n",
       "      <th>46</th>\n",
       "      <td>Washington</td>\n",
       "      <td>WA</td>\n",
       "      <td>All firearms (handguns, rifles, and shotguns)</td>\n",
       "      <td>Point-of-sale</td>\n",
       "    </tr>\n",
       "    <tr>\n",
       "      <th>47</th>\n",
       "      <td>West Virginia</td>\n",
       "      <td>WV</td>\n",
       "      <td>None</td>\n",
       "      <td>None</td>\n",
       "    </tr>\n",
       "    <tr>\n",
       "      <th>48</th>\n",
       "      <td>Wisconsin</td>\n",
       "      <td>WI</td>\n",
       "      <td>None</td>\n",
       "      <td>None</td>\n",
       "    </tr>\n",
       "    <tr>\n",
       "      <th>49</th>\n",
       "      <td>Wyoming</td>\n",
       "      <td>WY</td>\n",
       "      <td>None</td>\n",
       "      <td>None</td>\n",
       "    </tr>\n",
       "  </tbody>\n",
       "</table>\n",
       "</div>"
      ],
      "text/plain": [
       "             State State_Code                                Firearm_Type_Law  \\\n",
       "0          Alabama          AL                                           None   \n",
       "1           Alaska          AK                                           None   \n",
       "2          Arizona          AZ                                           None   \n",
       "3         Arkansas          AR                                           None   \n",
       "4       California          CA  All firearms (handguns, rifles, and shotguns)   \n",
       "5         Colorado          CO  All firearms (handguns, rifles, and shotguns)   \n",
       "6      Connecticut          CT  All firearms (handguns, rifles, and shotguns)   \n",
       "7         Delaware          DE  All firearms (handguns, rifles, and shotguns)   \n",
       "8          Florida          FL                                           None   \n",
       "9          Georgia          GA                                           None   \n",
       "10          Hawaii          HI  All firearms (handguns, rifles, and shotguns)   \n",
       "11           Idaho          ID                                           None   \n",
       "12        Illinois          IL  All firearms (handguns, rifles, and shotguns)   \n",
       "13         Indiana          IN                                           None   \n",
       "14            Iowa          IA                                           None   \n",
       "15          Kansas          KS                                           None   \n",
       "16        Kentucky          KY                                           None   \n",
       "17       Louisiana          LA                                           None   \n",
       "18           Maine          ME                                           None   \n",
       "19        Maryland          MD  All firearms (handguns, rifles, and shotguns)   \n",
       "20   Massachusetts          MA  All firearms (handguns, rifles, and shotguns)   \n",
       "21        Michigan          MI  All firearms (handguns, rifles, and shotguns)   \n",
       "22       Minnesota          MN                                           None   \n",
       "23     Mississippi          MS                                           None   \n",
       "24        Missouri          MO                                           None   \n",
       "25         Montana          MT                                           None   \n",
       "26        Nebraska          NE                                  Handguns only   \n",
       "27          Nevada          NV  All firearms (handguns, rifles, and shotguns)   \n",
       "28   New Hampshire          NH                                           None   \n",
       "29      New Jersey          NJ  All firearms (handguns, rifles, and shotguns)   \n",
       "30      New Mexico          NM  All firearms (handguns, rifles, and shotguns)   \n",
       "31        New York          NY  All firearms (handguns, rifles, and shotguns)   \n",
       "32  North Carolina          NC                                           None   \n",
       "33    North Dakota          ND                                           None   \n",
       "34            Ohio          OH                                           None   \n",
       "35        Oklahoma          OK                                           None   \n",
       "36          Oregon          OR  All firearms (handguns, rifles, and shotguns)   \n",
       "37    Pennsylvania          PA                                  Handguns only   \n",
       "38    Rhode Island          RI  All firearms (handguns, rifles, and shotguns)   \n",
       "39  South Carolina          SC                                           None   \n",
       "40    South Dakota          SD                                           None   \n",
       "41       Tennessee          TN                                           None   \n",
       "42           Texas          TX                                           None   \n",
       "43            Utah          UT                                           None   \n",
       "44         Vermont          VT  All firearms (handguns, rifles, and shotguns)   \n",
       "45        Virginia          VA  All firearms (handguns, rifles, and shotguns)   \n",
       "46      Washington          WA  All firearms (handguns, rifles, and shotguns)   \n",
       "47   West Virginia          WV                                           None   \n",
       "48       Wisconsin          WI                                           None   \n",
       "49         Wyoming          WY                                           None   \n",
       "\n",
       "                                     Background_check  \n",
       "0                                                None  \n",
       "1                                                None  \n",
       "2                                                None  \n",
       "3                                                None  \n",
       "4                                       Point-of-sale  \n",
       "5                                       Point-of-sale  \n",
       "6                Permit to purchase and point-of-sale  \n",
       "7                                       Point-of-sale  \n",
       "8                                                None  \n",
       "9                                                None  \n",
       "10                                 Permit to purchase  \n",
       "11                                               None  \n",
       "12               Permit to purchase and point-of-sale  \n",
       "13                                               None  \n",
       "14                                               None  \n",
       "15                                               None  \n",
       "16                                               None  \n",
       "17                                               None  \n",
       "18                                               None  \n",
       "19  Permit to purchase (for handguns) and point-of...  \n",
       "20                                 Permit to purchase  \n",
       "21                                 Permit to purchase  \n",
       "22                                               None  \n",
       "23                                               None  \n",
       "24                                               None  \n",
       "25                                               None  \n",
       "26                                 Permit to purchase  \n",
       "27                                      Point-of-sale  \n",
       "28                                               None  \n",
       "29               Permit to purchase and point-of-sale  \n",
       "30                                      Point-of-sale  \n",
       "31  Permit to purchase (for handguns and semiautom...  \n",
       "32                                               None  \n",
       "33                                               None  \n",
       "34                                               None  \n",
       "35                                               None  \n",
       "36               Permit to purchase and point-of-sale  \n",
       "37                                      Point-of-sale  \n",
       "38                                      Point-of-sale  \n",
       "39                                               None  \n",
       "40                                               None  \n",
       "41                                               None  \n",
       "42                                               None  \n",
       "43                                               None  \n",
       "44                                      Point-of-sale  \n",
       "45                                      Point-of-sale  \n",
       "46                                      Point-of-sale  \n",
       "47                                               None  \n",
       "48                                               None  \n",
       "49                                               None  "
      ]
     },
     "execution_count": 14,
     "metadata": {},
     "output_type": "execute_result"
    }
   ],
   "source": [
    "state_regulation = pd.read_csv('~/downloads/gun_data_vis/state_regulations_cleaned_copy.csv')\n",
    "state_regulation"
   ]
  },
  {
   "cell_type": "code",
   "execution_count": 145,
   "id": "274d27d7",
   "metadata": {},
   "outputs": [
    {
     "data": {
      "text/plain": [
       "30"
      ]
     },
     "execution_count": 145,
     "metadata": {},
     "output_type": "execute_result"
    }
   ],
   "source": [
    "gdatas = state_regulation.Background_check\n",
    "no_bgc = 0\n",
    "for gdata in gdatas:\n",
    "    if gdata == 'None':\n",
    "        no_bgc += 1\n",
    "no_bgc"
   ]
  },
  {
   "cell_type": "markdown",
   "id": "2e2d5ddd",
   "metadata": {},
   "source": [
    "## Out of 50 states, 30 are not requiring background checks (including mental health inquiries). "
   ]
  },
  {
   "cell_type": "code",
   "execution_count": 162,
   "id": "c6d83e58",
   "metadata": {},
   "outputs": [
    {
     "data": {
      "text/plain": [
       "count     141\n",
       "unique      4\n",
       "top       Yes\n",
       "freq       66\n",
       "Name: prior_signs_mental_health_issues, dtype: object"
      ]
     },
     "execution_count": 162,
     "metadata": {},
     "output_type": "execute_result"
    }
   ],
   "source": [
    "gun_data.prior_signs_mental_health_issues.describe()"
   ]
  },
  {
   "cell_type": "code",
   "execution_count": 163,
   "id": "a7b8472a",
   "metadata": {},
   "outputs": [],
   "source": [
    "mentalhs = gun_data.prior_signs_mental_health_issues\n",
    "mental_health_appeared = 0 \n",
    "no_signs = 0 \n",
    "for mentalh in mentalhs:\n",
    "    if mentalh == 'Yes':\n",
    "        mental_health_appeared += 1\n",
    "    else:\n",
    "        no_signs += 1\n",
    "mental_health = [mental_health_appeared, no_signs]\n",
    "label3 = ['Prior Signs of Mental Health Issue', 'No Notated Signs']"
   ]
  },
  {
   "cell_type": "code",
   "execution_count": 164,
   "id": "a5e1360f",
   "metadata": {},
   "outputs": [
    {
     "data": {
      "image/png": "[encoded data removed]",
      "text/plain": [
       "<Figure size 640x480 with 1 Axes>"
      ]
     },
     "metadata": {},
     "output_type": "display_data"
    }
   ],
   "source": [
    "plt.pie(mental_health, labels = label3)\n",
    "plt.title('Mental Health Signs in Mass Shootings')\n",
    "plt.tight_layout()"
   ]
  },
  {
   "cell_type": "code",
   "execution_count": 166,
   "id": "f8033753",
   "metadata": {},
   "outputs": [
    {
     "data": {
      "application/vnd.plotly.v1+json": {
       "config": {
        "plotlyServerURL": "https://plot.ly"
       },
       "data": [
        {
         "colorscale": [
          [
           0,
           "#636efa"
          ],
          [
           1,
           "#636efa"
          ]
         ],
         "customdata": [
          [
           "None",
           "None"
          ],
          [
           "None",
           "None"
          ],
          [
           "None",
           "None"
          ],
          [
           "None",
           "None"
          ],
          [
           "None",
           "None"
          ],
          [
           "None",
           "None"
          ],
          [
           "None",
           "None"
          ],
          [
           "None",
           "None"
          ],
          [
           "None",
           "None"
          ],
          [
           "None",
           "None"
          ],
          [
           "None",
           "None"
          ],
          [
           "None",
           "None"
          ],
          [
           "None",
           "None"
          ],
          [
           "None",
           "None"
          ],
          [
           "None",
           "None"
          ],
          [
           "None",
           "None"
          ],
          [
           "None",
           "None"
          ],
          [
           "None",
           "None"
          ],
          [
           "None",
           "None"
          ],
          [
           "None",
           "None"
          ],
          [
           "None",
           "None"
          ],
          [
           "None",
           "None"
          ],
          [
           "None",
           "None"
          ],
          [
           "None",
           "None"
          ],
          [
           "None",
           "None"
          ],
          [
           "None",
           "None"
          ],
          [
           "None",
           "None"
          ],
          [
           "None",
           "None"
          ],
          [
           "None",
           "None"
          ],
          [
           "None",
           "None"
          ]
         ],
         "geo": "geo",
         "hovertemplate": "<b>%{hovertext}</b><br><br>Firearm_Type_Law=%{customdata[1]}<br>State_Code =%{location}<br>Background_check=%{customdata[0]}<extra></extra>",
         "hovertext": [
          "Alabama",
          "Alaska",
          "Arizona",
          "Arkansas",
          "Florida",
          "Georgia",
          "Idaho",
          "Indiana",
          "Iowa",
          "Kansas",
          "Kentucky",
          "Louisiana",
          "Maine",
          "Minnesota",
          "Mississippi",
          "Missouri",
          "Montana",
          "New Hampshire",
          "North Carolina",
          "North Dakota",
          "Ohio",
          "Oklahoma",
          "South Carolina",
          "South Dakota",
          "Tennessee",
          "Texas",
          "Utah",
          "West Virginia",
          "Wisconsin",
          "Wyoming"
         ],
         "locationmode": "USA-states",
         "locations": [
          "AL",
          "AK",
          "AZ",
          "AR",
          "FL",
          "GA",
          "ID",
          "IN",
          "IA",
          "KS",
          "KY",
          "LA",
          "ME",
          "MN",
          "MS",
          "MO",
          "MT",
          "NH",
          "NC",
          "ND",
          "OH",
          "OK",
          "SC",
          "SD",
          "TN",
          "TX",
          "UT",
          "WV",
          "WI",
          "WY"
         ],
         "name": "None",
         "showlegend": true,
         "showscale": false,
         "type": "choropleth",
         "z": [
          1,
          1,
          1,
          1,
          1,
          1,
          1,
          1,
          1,
          1,
          1,
          1,
          1,
          1,
          1,
          1,
          1,
          1,
          1,
          1,
          1,
          1,
          1,
          1,
          1,
          1,
          1,
          1,
          1,
          1
         ]
        },
        {
         "colorscale": [
          [
           0,
           "#EF553B"
          ],
          [
           1,
           "#EF553B"
          ]
         ],
         "customdata": [
          [
           "Point-of-sale",
           "All firearms (handguns, rifles, and shotguns)"
          ],
          [
           "Point-of-sale",
           "All firearms (handguns, rifles, and shotguns)"
          ],
          [
           "Permit to purchase and point-of-sale",
           "All firearms (handguns, rifles, and shotguns)"
          ],
          [
           "Point-of-sale",
           "All firearms (handguns, rifles, and shotguns)"
          ],
          [
           "Permit to purchase",
           "All firearms (handguns, rifles, and shotguns)"
          ],
          [
           "Permit to purchase and point-of-sale",
           "All firearms (handguns, rifles, and shotguns)"
          ],
          [
           "Permit to purchase (for handguns) and point-of-sale (for all guns)",
           "All firearms (handguns, rifles, and shotguns)"
          ],
          [
           "Permit to purchase",
           "All firearms (handguns, rifles, and shotguns)"
          ],
          [
           "Permit to purchase",
           "All firearms (handguns, rifles, and shotguns)"
          ],
          [
           "Point-of-sale",
           "All firearms (handguns, rifles, and shotguns)"
          ],
          [
           "Permit to purchase and point-of-sale",
           "All firearms (handguns, rifles, and shotguns)"
          ],
          [
           "Point-of-sale",
           "All firearms (handguns, rifles, and shotguns)"
          ],
          [
           "Permit to purchase (for handguns and semiautomatic rifles) and point-of-sale (for all guns)",
           "All firearms (handguns, rifles, and shotguns)"
          ],
          [
           "Permit to purchase and point-of-sale",
           "All firearms (handguns, rifles, and shotguns)"
          ],
          [
           "Point-of-sale",
           "All firearms (handguns, rifles, and shotguns)"
          ],
          [
           "Point-of-sale",
           "All firearms (handguns, rifles, and shotguns)"
          ],
          [
           "Point-of-sale",
           "All firearms (handguns, rifles, and shotguns)"
          ],
          [
           "Point-of-sale",
           "All firearms (handguns, rifles, and shotguns)"
          ]
         ],
         "geo": "geo",
         "hovertemplate": "<b>%{hovertext}</b><br><br>Firearm_Type_Law=%{customdata[1]}<br>State_Code =%{location}<br>Background_check=%{customdata[0]}<extra></extra>",
         "hovertext": [
          "California",
          "Colorado",
          "Connecticut",
          "Delaware",
          "Hawaii",
          "Illinois",
          "Maryland",
          "Massachusetts",
          "Michigan",
          "Nevada",
          "New Jersey",
          "New Mexico",
          "New York",
          "Oregon",
          "Rhode Island",
          "Vermont",
          "Virginia",
          "Washington"
         ],
         "locationmode": "USA-states",
         "locations": [
          "CA",
          "CO",
          "CT",
          "DE",
          "HI",
          "IL",
          "MD",
          "MA",
          "MI",
          "NV",
          "NJ",
          "NM",
          "NY",
          "OR",
          "RI",
          "VT",
          "VA",
          "WA"
         ],
         "name": "All firearms (handguns, rifles, and shotguns)",
         "showlegend": true,
         "showscale": false,
         "type": "choropleth",
         "z": [
          1,
          1,
          1,
          1,
          1,
          1,
          1,
          1,
          1,
          1,
          1,
          1,
          1,
          1,
          1,
          1,
          1,
          1
         ]
        },
        {
         "colorscale": [
          [
           0,
           "#00cc96"
          ],
          [
           1,
           "#00cc96"
          ]
         ],
         "customdata": [
          [
           "Permit to purchase",
           "Handguns only"
          ],
          [
           "Point-of-sale",
           "Handguns only"
          ]
         ],
         "geo": "geo",
         "hovertemplate": "<b>%{hovertext}</b><br><br>Firearm_Type_Law=%{customdata[1]}<br>State_Code =%{location}<br>Background_check=%{customdata[0]}<extra></extra>",
         "hovertext": [
          "Nebraska",
          "Pennsylvania"
         ],
         "locationmode": "USA-states",
         "locations": [
          "NE",
          "PA"
         ],
         "name": "Handguns only",
         "showlegend": true,
         "showscale": false,
         "type": "choropleth",
         "z": [
          1,
          1
         ]
        }
       ],
       "layout": {
        "geo": {
         "center": {},
         "domain": {
          "x": [
           0,
           1
          ],
          "y": [
           0,
           1
          ]
         },
         "scope": "usa"
        },
        "legend": {
         "title": {
          "text": "Firearm_Type_Law"
         },
         "tracegroupgap": 0
        },
        "template": {
         "data": {
          "bar": [
           {
            "error_x": {
             "color": "#2a3f5f"
            },
            "error_y": {
             "color": "#2a3f5f"
            },
            "marker": {
             "line": {
              "color": "#E5ECF6",
              "width": 0.5
             },
             "pattern": {
              "fillmode": "overlay",
              "size": 10,
              "solidity": 0.2
             }
            },
            "type": "bar"
           }
          ],
          "barpolar": [
           {
            "marker": {
             "line": {
              "color": "#E5ECF6",
              "width": 0.5
             },
             "pattern": {
              "fillmode": "overlay",
              "size": 10,
              "solidity": 0.2
             }
            },
            "type": "barpolar"
           }
          ],
          "carpet": [
           {
            "aaxis": {
             "endlinecolor": "#2a3f5f",
             "gridcolor": "white",
             "linecolor": "white",
             "minorgridcolor": "white",
             "startlinecolor": "#2a3f5f"
            },
            "baxis": {
             "endlinecolor": "#2a3f5f",
             "gridcolor": "white",
             "linecolor": "white",
             "minorgridcolor": "white",
             "startlinecolor": "#2a3f5f"
            },
            "type": "carpet"
           }
          ],
          "choropleth": [
           {
            "colorbar": {
             "outlinewidth": 0,
             "ticks": ""
            },
            "type": "choropleth"
           }
          ],
          "contour": [
           {
            "colorbar": {
             "outlinewidth": 0,
             "ticks": ""
            },
            "colorscale": [
             [
              0,
              "#0d0887"
             ],
             [
              0.1111111111111111,
              "#46039f"
             ],
             [
              0.2222222222222222,
              "#7201a8"
             ],
             [
              0.3333333333333333,
              "#9c179e"
             ],
             [
              0.4444444444444444,
              "#bd3786"
             ],
             [
              0.5555555555555556,
              "#d8576b"
             ],
             [
              0.6666666666666666,
              "#ed7953"
             ],
             [
              0.7777777777777778,
              "#fb9f3a"
             ],
             [
              0.8888888888888888,
              "#fdca26"
             ],
             [
              1,
              "#f0f921"
             ]
            ],
            "type": "contour"
           }
          ],
          "contourcarpet": [
           {
            "colorbar": {
             "outlinewidth": 0,
             "ticks": ""
            },
            "type": "contourcarpet"
           }
          ],
          "heatmap": [
           {
            "colorbar": {
             "outlinewidth": 0,
             "ticks": ""
            },
            "colorscale": [
             [
              0,
              "#0d0887"
             ],
             [
              0.1111111111111111,
              "#46039f"
             ],
             [
              0.2222222222222222,
              "#7201a8"
             ],
             [
              0.3333333333333333,
              "#9c179e"
             ],
             [
              0.4444444444444444,
              "#bd3786"
             ],
             [
              0.5555555555555556,
              "#d8576b"
             ],
             [
              0.6666666666666666,
              "#ed7953"
             ],
             [
              0.7777777777777778,
              "#fb9f3a"
             ],
             [
              0.8888888888888888,
              "#fdca26"
             ],
             [
              1,
              "#f0f921"
             ]
            ],
            "type": "heatmap"
           }
          ],
          "heatmapgl": [
           {
            "colorbar": {
             "outlinewidth": 0,
             "ticks": ""
            },
            "colorscale": [
             [
              0,
              "#0d0887"
             ],
             [
              0.1111111111111111,
              "#46039f"
             ],
             [
              0.2222222222222222,
              "#7201a8"
             ],
             [
              0.3333333333333333,
              "#9c179e"
             ],
             [
              0.4444444444444444,
              "#bd3786"
             ],
             [
              0.5555555555555556,
              "#d8576b"
             ],
             [
              0.6666666666666666,
              "#ed7953"
             ],
             [
              0.7777777777777778,
              "#fb9f3a"
             ],
             [
              0.8888888888888888,
              "#fdca26"
             ],
             [
              1,
              "#f0f921"
             ]
            ],
            "type": "heatmapgl"
           }
          ],
          "histogram": [
           {
            "marker": {
             "pattern": {
              "fillmode": "overlay",
              "size": 10,
              "solidity": 0.2
             }
            },
            "type": "histogram"
           }
          ],
          "histogram2d": [
           {
            "colorbar": {
             "outlinewidth": 0,
             "ticks": ""
            },
            "colorscale": [
             [
              0,
              "#0d0887"
             ],
             [
              0.1111111111111111,
              "#46039f"
             ],
             [
              0.2222222222222222,
              "#7201a8"
             ],
             [
              0.3333333333333333,
              "#9c179e"
             ],
             [
              0.4444444444444444,
              "#bd3786"
             ],
             [
              0.5555555555555556,
              "#d8576b"
             ],
             [
              0.6666666666666666,
              "#ed7953"
             ],
             [
              0.7777777777777778,
              "#fb9f3a"
             ],
             [
              0.8888888888888888,
              "#fdca26"
             ],
             [
              1,
              "#f0f921"
             ]
            ],
            "type": "histogram2d"
           }
          ],
          "histogram2dcontour": [
           {
            "colorbar": {
             "outlinewidth": 0,
             "ticks": ""
            },
            "colorscale": [
             [
              0,
              "#0d0887"
             ],
             [
              0.1111111111111111,
              "#46039f"
             ],
             [
              0.2222222222222222,
              "#7201a8"
             ],
             [
              0.3333333333333333,
              "#9c179e"
             ],
             [
              0.4444444444444444,
              "#bd3786"
             ],
             [
              0.5555555555555556,
              "#d8576b"
             ],
             [
              0.6666666666666666,
              "#ed7953"
             ],
             [
              0.7777777777777778,
              "#fb9f3a"
             ],
             [
              0.8888888888888888,
              "#fdca26"
             ],
             [
              1,
              "#f0f921"
             ]
            ],
            "type": "histogram2dcontour"
           }
          ],
          "mesh3d": [
           {
            "colorbar": {
             "outlinewidth": 0,
             "ticks": ""
            },
            "type": "mesh3d"
           }
          ],
          "parcoords": [
           {
            "line": {
             "colorbar": {
              "outlinewidth": 0,
              "ticks": ""
             }
            },
            "type": "parcoords"
           }
          ],
          "pie": [
           {
            "automargin": true,
            "type": "pie"
           }
          ],
          "scatter": [
           {
            "fillpattern": {
             "fillmode": "overlay",
             "size": 10,
             "solidity": 0.2
            },
            "type": "scatter"
           }
          ],
          "scatter3d": [
           {
            "line": {
             "colorbar": {
              "outlinewidth": 0,
              "ticks": ""
             }
            },
            "marker": {
             "colorbar": {
              "outlinewidth": 0,
              "ticks": ""
             }
            },
            "type": "scatter3d"
           }
          ],
          "scattercarpet": [
           {
            "marker": {
             "colorbar": {
              "outlinewidth": 0,
              "ticks": ""
             }
            },
            "type": "scattercarpet"
           }
          ],
          "scattergeo": [
           {
            "marker": {
             "colorbar": {
              "outlinewidth": 0,
              "ticks": ""
             }
            },
            "type": "scattergeo"
           }
          ],
          "scattergl": [
           {
            "marker": {
             "colorbar": {
              "outlinewidth": 0,
              "ticks": ""
             }
            },
            "type": "scattergl"
           }
          ],
          "scattermapbox": [
           {
            "marker": {
             "colorbar": {
              "outlinewidth": 0,
              "ticks": ""
             }
            },
            "type": "scattermapbox"
           }
          ],
          "scatterpolar": [
           {
            "marker": {
             "colorbar": {
              "outlinewidth": 0,
              "ticks": ""
             }
            },
            "type": "scatterpolar"
           }
          ],
          "scatterpolargl": [
           {
            "marker": {
             "colorbar": {
              "outlinewidth": 0,
              "ticks": ""
             }
            },
            "type": "scatterpolargl"
           }
          ],
          "scatterternary": [
           {
            "marker": {
             "colorbar": {
              "outlinewidth": 0,
              "ticks": ""
             }
            },
            "type": "scatterternary"
           }
          ],
          "surface": [
           {
            "colorbar": {
             "outlinewidth": 0,
             "ticks": ""
            },
            "colorscale": [
             [
              0,
              "#0d0887"
             ],
             [
              0.1111111111111111,
              "#46039f"
             ],
             [
              0.2222222222222222,
              "#7201a8"
             ],
             [
              0.3333333333333333,
              "#9c179e"
             ],
             [
              0.4444444444444444,
              "#bd3786"
             ],
             [
              0.5555555555555556,
              "#d8576b"
             ],
             [
              0.6666666666666666,
              "#ed7953"
             ],
             [
              0.7777777777777778,
              "#fb9f3a"
             ],
             [
              0.8888888888888888,
              "#fdca26"
             ],
             [
              1,
              "#f0f921"
             ]
            ],
            "type": "surface"
           }
          ],
          "table": [
           {
            "cells": {
             "fill": {
              "color": "#EBF0F8"
             },
             "line": {
              "color": "white"
             }
            },
            "header": {
             "fill": {
              "color": "#C8D4E3"
             },
             "line": {
              "color": "white"
             }
            },
            "type": "table"
           }
          ]
         },
         "layout": {
          "annotationdefaults": {
           "arrowcolor": "#2a3f5f",
           "arrowhead": 0,
           "arrowwidth": 1
          },
          "autotypenumbers": "strict",
          "coloraxis": {
           "colorbar": {
            "outlinewidth": 0,
            "ticks": ""
           }
          },
          "colorscale": {
           "diverging": [
            [
             0,
             "#8e0152"
            ],
            [
             0.1,
             "#c51b7d"
            ],
            [
             0.2,
             "#de77ae"
            ],
            [
             0.3,
             "#f1b6da"
            ],
            [
             0.4,
             "#fde0ef"
            ],
            [
             0.5,
             "#f7f7f7"
            ],
            [
             0.6,
             "#e6f5d0"
            ],
            [
             0.7,
             "#b8e186"
            ],
            [
             0.8,
             "#7fbc41"
            ],
            [
             0.9,
             "#4d9221"
            ],
            [
             1,
             "#276419"
            ]
           ],
           "sequential": [
            [
             0,
             "#0d0887"
            ],
            [
             0.1111111111111111,
             "#46039f"
            ],
            [
             0.2222222222222222,
             "#7201a8"
            ],
            [
             0.3333333333333333,
             "#9c179e"
            ],
            [
             0.4444444444444444,
             "#bd3786"
            ],
            [
             0.5555555555555556,
             "#d8576b"
            ],
            [
             0.6666666666666666,
             "#ed7953"
            ],
            [
             0.7777777777777778,
             "#fb9f3a"
            ],
            [
             0.8888888888888888,
             "#fdca26"
            ],
            [
             1,
             "#f0f921"
            ]
           ],
           "sequentialminus": [
            [
             0,
             "#0d0887"
            ],
            [
             0.1111111111111111,
             "#46039f"
            ],
            [
             0.2222222222222222,
             "#7201a8"
            ],
            [
             0.3333333333333333,
             "#9c179e"
            ],
            [
             0.4444444444444444,
             "#bd3786"
            ],
            [
             0.5555555555555556,
             "#d8576b"
            ],
            [
             0.6666666666666666,
             "#ed7953"
            ],
            [
             0.7777777777777778,
             "#fb9f3a"
            ],
            [
             0.8888888888888888,
             "#fdca26"
            ],
            [
             1,
             "#f0f921"
            ]
           ]
          },
          "colorway": [
           "#636efa",
           "#EF553B",
           "#00cc96",
           "#ab63fa",
           "#FFA15A",
           "#19d3f3",
           "#FF6692",
           "#B6E880",
           "#FF97FF",
           "#FECB52"
          ],
          "font": {
           "color": "#2a3f5f"
          },
          "geo": {
           "bgcolor": "white",
           "lakecolor": "white",
           "landcolor": "#E5ECF6",
           "showlakes": true,
           "showland": true,
           "subunitcolor": "white"
          },
          "hoverlabel": {
           "align": "left"
          },
          "hovermode": "closest",
          "mapbox": {
           "style": "light"
          },
          "paper_bgcolor": "white",
          "plot_bgcolor": "#E5ECF6",
          "polar": {
           "angularaxis": {
            "gridcolor": "white",
            "linecolor": "white",
            "ticks": ""
           },
           "bgcolor": "#E5ECF6",
           "radialaxis": {
            "gridcolor": "white",
            "linecolor": "white",
            "ticks": ""
           }
          },
          "scene": {
           "xaxis": {
            "backgroundcolor": "#E5ECF6",
            "gridcolor": "white",
            "gridwidth": 2,
            "linecolor": "white",
            "showbackground": true,
            "ticks": "",
            "zerolinecolor": "white"
           },
           "yaxis": {
            "backgroundcolor": "#E5ECF6",
            "gridcolor": "white",
            "gridwidth": 2,
            "linecolor": "white",
            "showbackground": true,
            "ticks": "",
            "zerolinecolor": "white"
           },
           "zaxis": {
            "backgroundcolor": "#E5ECF6",
            "gridcolor": "white",
            "gridwidth": 2,
            "linecolor": "white",
            "showbackground": true,
            "ticks": "",
            "zerolinecolor": "white"
           }
          },
          "shapedefaults": {
           "line": {
            "color": "#2a3f5f"
           }
          },
          "ternary": {
           "aaxis": {
            "gridcolor": "white",
            "linecolor": "white",
            "ticks": ""
           },
           "baxis": {
            "gridcolor": "white",
            "linecolor": "white",
            "ticks": ""
           },
           "bgcolor": "#E5ECF6",
           "caxis": {
            "gridcolor": "white",
            "linecolor": "white",
            "ticks": ""
           }
          },
          "title": {
           "x": 0.05
          },
          "xaxis": {
           "automargin": true,
           "gridcolor": "white",
           "linecolor": "white",
           "ticks": "",
           "title": {
            "standoff": 15
           },
           "zerolinecolor": "white",
           "zerolinewidth": 2
          },
          "yaxis": {
           "automargin": true,
           "gridcolor": "white",
           "linecolor": "white",
           "ticks": "",
           "title": {
            "standoff": 15
           },
           "zerolinecolor": "white",
           "zerolinewidth": 2
          }
         }
        },
        "title": {
         "text": "Gun Regulations in USA"
        }
       }
      },
      "text/html": [
       "<div>                            <div id=\"29468c0c-a39b-46a6-905d-a8f9e28ff4b0\" class=\"plotly-graph-div\" style=\"height:525px; width:100%;\"></div>            <script type=\"text/javascript\">                require([\"plotly\"], function(Plotly) {                    window.PLOTLYENV=window.PLOTLYENV || {};                                    if (document.getElementById(\"29468c0c-a39b-46a6-905d-a8f9e28ff4b0\")) {                    Plotly.newPlot(                        \"29468c0c-a39b-46a6-905d-a8f9e28ff4b0\",                        [{\"colorscale\":[[0.0,\"#636efa\"],[1.0,\"#636efa\"]],\"customdata\":[[\"None\",\"None\"],[\"None\",\"None\"],[\"None\",\"None\"],[\"None\",\"None\"],[\"None\",\"None\"],[\"None\",\"None\"],[\"None\",\"None\"],[\"None\",\"None\"],[\"None\",\"None\"],[\"None\",\"None\"],[\"None\",\"None\"],[\"None\",\"None\"],[\"None\",\"None\"],[\"None\",\"None\"],[\"None\",\"None\"],[\"None\",\"None\"],[\"None\",\"None\"],[\"None\",\"None\"],[\"None\",\"None\"],[\"None\",\"None\"],[\"None\",\"None\"],[\"None\",\"None\"],[\"None\",\"None\"],[\"None\",\"None\"],[\"None\",\"None\"],[\"None\",\"None\"],[\"None\",\"None\"],[\"None\",\"None\"],[\"None\",\"None\"],[\"None\",\"None\"]],\"geo\":\"geo\",\"hovertemplate\":\"<b>%{hovertext}</b><br><br>Firearm_Type_Law=%{customdata[1]}<br>State_Code =%{location}<br>Background_check=%{customdata[0]}<extra></extra>\",\"hovertext\":[\"Alabama\",\"Alaska\",\"Arizona\",\"Arkansas\",\"Florida\",\"Georgia\",\"Idaho\",\"Indiana\",\"Iowa\",\"Kansas\",\"Kentucky\",\"Louisiana\",\"Maine\",\"Minnesota\",\"Mississippi\",\"Missouri\",\"Montana\",\"New Hampshire\",\"North Carolina\",\"North Dakota\",\"Ohio\",\"Oklahoma\",\"South Carolina\",\"South Dakota\",\"Tennessee\",\"Texas\",\"Utah\",\"West Virginia\",\"Wisconsin\",\"Wyoming\"],\"locationmode\":\"USA-states\",\"locations\":[\"AL\",\"AK\",\"AZ\",\"AR\",\"FL\",\"GA\",\"ID\",\"IN\",\"IA\",\"KS\",\"KY\",\"LA\",\"ME\",\"MN\",\"MS\",\"MO\",\"MT\",\"NH\",\"NC\",\"ND\",\"OH\",\"OK\",\"SC\",\"SD\",\"TN\",\"TX\",\"UT\",\"WV\",\"WI\",\"WY\"],\"name\":\"None\",\"showlegend\":true,\"showscale\":false,\"z\":[1,1,1,1,1,1,1,1,1,1,1,1,1,1,1,1,1,1,1,1,1,1,1,1,1,1,1,1,1,1],\"type\":\"choropleth\"},{\"colorscale\":[[0.0,\"#EF553B\"],[1.0,\"#EF553B\"]],\"customdata\":[[\"Point-of-sale\",\"All firearms (handguns, rifles, and shotguns)\"],[\"Point-of-sale\",\"All firearms (handguns, rifles, and shotguns)\"],[\"Permit to purchase and point-of-sale\",\"All firearms (handguns, rifles, and shotguns)\"],[\"Point-of-sale\",\"All firearms (handguns, rifles, and shotguns)\"],[\"Permit to purchase\",\"All firearms (handguns, rifles, and shotguns)\"],[\"Permit to purchase and point-of-sale\",\"All firearms (handguns, rifles, and shotguns)\"],[\"Permit to purchase (for handguns) and point-of-sale (for all guns)\",\"All firearms (handguns, rifles, and shotguns)\"],[\"Permit to purchase\",\"All firearms (handguns, rifles, and shotguns)\"],[\"Permit to purchase\",\"All firearms (handguns, rifles, and shotguns)\"],[\"Point-of-sale\",\"All firearms (handguns, rifles, and shotguns)\"],[\"Permit to purchase and point-of-sale\",\"All firearms (handguns, rifles, and shotguns)\"],[\"Point-of-sale\",\"All firearms (handguns, rifles, and shotguns)\"],[\"Permit to purchase (for handguns and semiautomatic rifles) and point-of-sale (for all guns)\",\"All firearms (handguns, rifles, and shotguns)\"],[\"Permit to purchase and point-of-sale\",\"All firearms (handguns, rifles, and shotguns)\"],[\"Point-of-sale\",\"All firearms (handguns, rifles, and shotguns)\"],[\"Point-of-sale\",\"All firearms (handguns, rifles, and shotguns)\"],[\"Point-of-sale\",\"All firearms (handguns, rifles, and shotguns)\"],[\"Point-of-sale\",\"All firearms (handguns, rifles, and shotguns)\"]],\"geo\":\"geo\",\"hovertemplate\":\"<b>%{hovertext}</b><br><br>Firearm_Type_Law=%{customdata[1]}<br>State_Code =%{location}<br>Background_check=%{customdata[0]}<extra></extra>\",\"hovertext\":[\"California\",\"Colorado\",\"Connecticut\",\"Delaware\",\"Hawaii\",\"Illinois\",\"Maryland\",\"Massachusetts\",\"Michigan\",\"Nevada\",\"New Jersey\",\"New Mexico\",\"New York\",\"Oregon\",\"Rhode Island\",\"Vermont\",\"Virginia\",\"Washington\"],\"locationmode\":\"USA-states\",\"locations\":[\"CA\",\"CO\",\"CT\",\"DE\",\"HI\",\"IL\",\"MD\",\"MA\",\"MI\",\"NV\",\"NJ\",\"NM\",\"NY\",\"OR\",\"RI\",\"VT\",\"VA\",\"WA\"],\"name\":\"All firearms (handguns, rifles, and shotguns)\",\"showlegend\":true,\"showscale\":false,\"z\":[1,1,1,1,1,1,1,1,1,1,1,1,1,1,1,1,1,1],\"type\":\"choropleth\"},{\"colorscale\":[[0.0,\"#00cc96\"],[1.0,\"#00cc96\"]],\"customdata\":[[\"Permit to purchase\",\"Handguns only\"],[\"Point-of-sale\",\"Handguns only\"]],\"geo\":\"geo\",\"hovertemplate\":\"<b>%{hovertext}</b><br><br>Firearm_Type_Law=%{customdata[1]}<br>State_Code =%{location}<br>Background_check=%{customdata[0]}<extra></extra>\",\"hovertext\":[\"Nebraska\",\"Pennsylvania\"],\"locationmode\":\"USA-states\",\"locations\":[\"NE\",\"PA\"],\"name\":\"Handguns only\",\"showlegend\":true,\"showscale\":false,\"z\":[1,1],\"type\":\"choropleth\"}],                        {\"template\":{\"data\":{\"histogram2dcontour\":[{\"type\":\"histogram2dcontour\",\"colorbar\":{\"outlinewidth\":0,\"ticks\":\"\"},\"colorscale\":[[0.0,\"#0d0887\"],[0.1111111111111111,\"#46039f\"],[0.2222222222222222,\"#7201a8\"],[0.3333333333333333,\"#9c179e\"],[0.4444444444444444,\"#bd3786\"],[0.5555555555555556,\"#d8576b\"],[0.6666666666666666,\"#ed7953\"],[0.7777777777777778,\"#fb9f3a\"],[0.8888888888888888,\"#fdca26\"],[1.0,\"#f0f921\"]]}],\"choropleth\":[{\"type\":\"choropleth\",\"colorbar\":{\"outlinewidth\":0,\"ticks\":\"\"}}],\"histogram2d\":[{\"type\":\"histogram2d\",\"colorbar\":{\"outlinewidth\":0,\"ticks\":\"\"},\"colorscale\":[[0.0,\"#0d0887\"],[0.1111111111111111,\"#46039f\"],[0.2222222222222222,\"#7201a8\"],[0.3333333333333333,\"#9c179e\"],[0.4444444444444444,\"#bd3786\"],[0.5555555555555556,\"#d8576b\"],[0.6666666666666666,\"#ed7953\"],[0.7777777777777778,\"#fb9f3a\"],[0.8888888888888888,\"#fdca26\"],[1.0,\"#f0f921\"]]}],\"heatmap\":[{\"type\":\"heatmap\",\"colorbar\":{\"outlinewidth\":0,\"ticks\":\"\"},\"colorscale\":[[0.0,\"#0d0887\"],[0.1111111111111111,\"#46039f\"],[0.2222222222222222,\"#7201a8\"],[0.3333333333333333,\"#9c179e\"],[0.4444444444444444,\"#bd3786\"],[0.5555555555555556,\"#d8576b\"],[0.6666666666666666,\"#ed7953\"],[0.7777777777777778,\"#fb9f3a\"],[0.8888888888888888,\"#fdca26\"],[1.0,\"#f0f921\"]]}],\"heatmapgl\":[{\"type\":\"heatmapgl\",\"colorbar\":{\"outlinewidth\":0,\"ticks\":\"\"},\"colorscale\":[[0.0,\"#0d0887\"],[0.1111111111111111,\"#46039f\"],[0.2222222222222222,\"#7201a8\"],[0.3333333333333333,\"#9c179e\"],[0.4444444444444444,\"#bd3786\"],[0.5555555555555556,\"#d8576b\"],[0.6666666666666666,\"#ed7953\"],[0.7777777777777778,\"#fb9f3a\"],[0.8888888888888888,\"#fdca26\"],[1.0,\"#f0f921\"]]}],\"contourcarpet\":[{\"type\":\"contourcarpet\",\"colorbar\":{\"outlinewidth\":0,\"ticks\":\"\"}}],\"contour\":[{\"type\":\"contour\",\"colorbar\":{\"outlinewidth\":0,\"ticks\":\"\"},\"colorscale\":[[0.0,\"#0d0887\"],[0.1111111111111111,\"#46039f\"],[0.2222222222222222,\"#7201a8\"],[0.3333333333333333,\"#9c179e\"],[0.4444444444444444,\"#bd3786\"],[0.5555555555555556,\"#d8576b\"],[0.6666666666666666,\"#ed7953\"],[0.7777777777777778,\"#fb9f3a\"],[0.8888888888888888,\"#fdca26\"],[1.0,\"#f0f921\"]]}],\"surface\":[{\"type\":\"surface\",\"colorbar\":{\"outlinewidth\":0,\"ticks\":\"\"},\"colorscale\":[[0.0,\"#0d0887\"],[0.1111111111111111,\"#46039f\"],[0.2222222222222222,\"#7201a8\"],[0.3333333333333333,\"#9c179e\"],[0.4444444444444444,\"#bd3786\"],[0.5555555555555556,\"#d8576b\"],[0.6666666666666666,\"#ed7953\"],[0.7777777777777778,\"#fb9f3a\"],[0.8888888888888888,\"#fdca26\"],[1.0,\"#f0f921\"]]}],\"mesh3d\":[{\"type\":\"mesh3d\",\"colorbar\":{\"outlinewidth\":0,\"ticks\":\"\"}}],\"scatter\":[{\"fillpattern\":{\"fillmode\":\"overlay\",\"size\":10,\"solidity\":0.2},\"type\":\"scatter\"}],\"parcoords\":[{\"type\":\"parcoords\",\"line\":{\"colorbar\":{\"outlinewidth\":0,\"ticks\":\"\"}}}],\"scatterpolargl\":[{\"type\":\"scatterpolargl\",\"marker\":{\"colorbar\":{\"outlinewidth\":0,\"ticks\":\"\"}}}],\"bar\":[{\"error_x\":{\"color\":\"#2a3f5f\"},\"error_y\":{\"color\":\"#2a3f5f\"},\"marker\":{\"line\":{\"color\":\"#E5ECF6\",\"width\":0.5},\"pattern\":{\"fillmode\":\"overlay\",\"size\":10,\"solidity\":0.2}},\"type\":\"bar\"}],\"scattergeo\":[{\"type\":\"scattergeo\",\"marker\":{\"colorbar\":{\"outlinewidth\":0,\"ticks\":\"\"}}}],\"scatterpolar\":[{\"type\":\"scatterpolar\",\"marker\":{\"colorbar\":{\"outlinewidth\":0,\"ticks\":\"\"}}}],\"histogram\":[{\"marker\":{\"pattern\":{\"fillmode\":\"overlay\",\"size\":10,\"solidity\":0.2}},\"type\":\"histogram\"}],\"scattergl\":[{\"type\":\"scattergl\",\"marker\":{\"colorbar\":{\"outlinewidth\":0,\"ticks\":\"\"}}}],\"scatter3d\":[{\"type\":\"scatter3d\",\"line\":{\"colorbar\":{\"outlinewidth\":0,\"ticks\":\"\"}},\"marker\":{\"colorbar\":{\"outlinewidth\":0,\"ticks\":\"\"}}}],\"scattermapbox\":[{\"type\":\"scattermapbox\",\"marker\":{\"colorbar\":{\"outlinewidth\":0,\"ticks\":\"\"}}}],\"scatterternary\":[{\"type\":\"scatterternary\",\"marker\":{\"colorbar\":{\"outlinewidth\":0,\"ticks\":\"\"}}}],\"scattercarpet\":[{\"type\":\"scattercarpet\",\"marker\":{\"colorbar\":{\"outlinewidth\":0,\"ticks\":\"\"}}}],\"carpet\":[{\"aaxis\":{\"endlinecolor\":\"#2a3f5f\",\"gridcolor\":\"white\",\"linecolor\":\"white\",\"minorgridcolor\":\"white\",\"startlinecolor\":\"#2a3f5f\"},\"baxis\":{\"endlinecolor\":\"#2a3f5f\",\"gridcolor\":\"white\",\"linecolor\":\"white\",\"minorgridcolor\":\"white\",\"startlinecolor\":\"#2a3f5f\"},\"type\":\"carpet\"}],\"table\":[{\"cells\":{\"fill\":{\"color\":\"#EBF0F8\"},\"line\":{\"color\":\"white\"}},\"header\":{\"fill\":{\"color\":\"#C8D4E3\"},\"line\":{\"color\":\"white\"}},\"type\":\"table\"}],\"barpolar\":[{\"marker\":{\"line\":{\"color\":\"#E5ECF6\",\"width\":0.5},\"pattern\":{\"fillmode\":\"overlay\",\"size\":10,\"solidity\":0.2}},\"type\":\"barpolar\"}],\"pie\":[{\"automargin\":true,\"type\":\"pie\"}]},\"layout\":{\"autotypenumbers\":\"strict\",\"colorway\":[\"#636efa\",\"#EF553B\",\"#00cc96\",\"#ab63fa\",\"#FFA15A\",\"#19d3f3\",\"#FF6692\",\"#B6E880\",\"#FF97FF\",\"#FECB52\"],\"font\":{\"color\":\"#2a3f5f\"},\"hovermode\":\"closest\",\"hoverlabel\":{\"align\":\"left\"},\"paper_bgcolor\":\"white\",\"plot_bgcolor\":\"#E5ECF6\",\"polar\":{\"bgcolor\":\"#E5ECF6\",\"angularaxis\":{\"gridcolor\":\"white\",\"linecolor\":\"white\",\"ticks\":\"\"},\"radialaxis\":{\"gridcolor\":\"white\",\"linecolor\":\"white\",\"ticks\":\"\"}},\"ternary\":{\"bgcolor\":\"#E5ECF6\",\"aaxis\":{\"gridcolor\":\"white\",\"linecolor\":\"white\",\"ticks\":\"\"},\"baxis\":{\"gridcolor\":\"white\",\"linecolor\":\"white\",\"ticks\":\"\"},\"caxis\":{\"gridcolor\":\"white\",\"linecolor\":\"white\",\"ticks\":\"\"}},\"coloraxis\":{\"colorbar\":{\"outlinewidth\":0,\"ticks\":\"\"}},\"colorscale\":{\"sequential\":[[0.0,\"#0d0887\"],[0.1111111111111111,\"#46039f\"],[0.2222222222222222,\"#7201a8\"],[0.3333333333333333,\"#9c179e\"],[0.4444444444444444,\"#bd3786\"],[0.5555555555555556,\"#d8576b\"],[0.6666666666666666,\"#ed7953\"],[0.7777777777777778,\"#fb9f3a\"],[0.8888888888888888,\"#fdca26\"],[1.0,\"#f0f921\"]],\"sequentialminus\":[[0.0,\"#0d0887\"],[0.1111111111111111,\"#46039f\"],[0.2222222222222222,\"#7201a8\"],[0.3333333333333333,\"#9c179e\"],[0.4444444444444444,\"#bd3786\"],[0.5555555555555556,\"#d8576b\"],[0.6666666666666666,\"#ed7953\"],[0.7777777777777778,\"#fb9f3a\"],[0.8888888888888888,\"#fdca26\"],[1.0,\"#f0f921\"]],\"diverging\":[[0,\"#8e0152\"],[0.1,\"#c51b7d\"],[0.2,\"#de77ae\"],[0.3,\"#f1b6da\"],[0.4,\"#fde0ef\"],[0.5,\"#f7f7f7\"],[0.6,\"#e6f5d0\"],[0.7,\"#b8e186\"],[0.8,\"#7fbc41\"],[0.9,\"#4d9221\"],[1,\"#276419\"]]},\"xaxis\":{\"gridcolor\":\"white\",\"linecolor\":\"white\",\"ticks\":\"\",\"title\":{\"standoff\":15},\"zerolinecolor\":\"white\",\"automargin\":true,\"zerolinewidth\":2},\"yaxis\":{\"gridcolor\":\"white\",\"linecolor\":\"white\",\"ticks\":\"\",\"title\":{\"standoff\":15},\"zerolinecolor\":\"white\",\"automargin\":true,\"zerolinewidth\":2},\"scene\":{\"xaxis\":{\"backgroundcolor\":\"#E5ECF6\",\"gridcolor\":\"white\",\"linecolor\":\"white\",\"showbackground\":true,\"ticks\":\"\",\"zerolinecolor\":\"white\",\"gridwidth\":2},\"yaxis\":{\"backgroundcolor\":\"#E5ECF6\",\"gridcolor\":\"white\",\"linecolor\":\"white\",\"showbackground\":true,\"ticks\":\"\",\"zerolinecolor\":\"white\",\"gridwidth\":2},\"zaxis\":{\"backgroundcolor\":\"#E5ECF6\",\"gridcolor\":\"white\",\"linecolor\":\"white\",\"showbackground\":true,\"ticks\":\"\",\"zerolinecolor\":\"white\",\"gridwidth\":2}},\"shapedefaults\":{\"line\":{\"color\":\"#2a3f5f\"}},\"annotationdefaults\":{\"arrowcolor\":\"#2a3f5f\",\"arrowhead\":0,\"arrowwidth\":1},\"geo\":{\"bgcolor\":\"white\",\"landcolor\":\"#E5ECF6\",\"subunitcolor\":\"white\",\"showland\":true,\"showlakes\":true,\"lakecolor\":\"white\"},\"title\":{\"x\":0.05},\"mapbox\":{\"style\":\"light\"}}},\"geo\":{\"domain\":{\"x\":[0.0,1.0],\"y\":[0.0,1.0]},\"center\":{},\"scope\":\"usa\"},\"legend\":{\"title\":{\"text\":\"Firearm_Type_Law\"},\"tracegroupgap\":0},\"title\":{\"text\":\"Gun Regulations in USA\"}},                        {\"responsive\": true}                    ).then(function(){\n",
       "                            \n",
       "var gd = document.getElementById('29468c0c-a39b-46a6-905d-a8f9e28ff4b0');\n",
       "var x = new MutationObserver(function (mutations, observer) {{\n",
       "        var display = window.getComputedStyle(gd).display;\n",
       "        if (!display || display === 'none') {{\n",
       "            console.log([gd, 'removed!']);\n",
       "            Plotly.purge(gd);\n",
       "            observer.disconnect();\n",
       "        }}\n",
       "}});\n",
       "\n",
       "// Listen for the removal of the full notebook cells\n",
       "var notebookContainer = gd.closest('#notebook-container');\n",
       "if (notebookContainer) {{\n",
       "    x.observe(notebookContainer, {childList: true});\n",
       "}}\n",
       "\n",
       "// Listen for the clearing of the current output cell\n",
       "var outputEl = gd.closest('.output');\n",
       "if (outputEl) {{\n",
       "    x.observe(outputEl, {childList: true});\n",
       "}}\n",
       "\n",
       "                        })                };                });            </script>        </div>"
      ]
     },
     "metadata": {},
     "output_type": "display_data"
    }
   ],
   "source": [
    "fig = px.choropleth(state_regulation, \n",
    "                    locations = 'State_Code ',\n",
    "                    locationmode = 'USA-states',\n",
    "                    scope = 'usa',\n",
    "                    color = 'Firearm_Type_Law',\n",
    "                    hover_name = 'State',\n",
    "                    hover_data = ['Background_check', 'Firearm_Type_Law'],\n",
    "                    range_color = [0,3],\n",
    "                    color_continuous_scale = 'blue',\n",
    "                    title = 'Gun Regulations in USA')\n",
    "fig"
   ]
  },
  {
   "cell_type": "code",
   "execution_count": 47,
   "id": "f41ba438",
   "metadata": {},
   "outputs": [
    {
     "data": {
      "text/plain": [
       "Text(0.5, 1.0, 'National Cases')"
      ]
     },
     "execution_count": 47,
     "metadata": {},
     "output_type": "execute_result"
    },
    {
     "data": {
      "image/png": "[encoded data removed]",
      "text/plain": [
       "<Figure size 640x480 with 1 Axes>"
      ]
     },
     "metadata": {},
     "output_type": "display_data"
    }
   ],
   "source": [
    "data = gpd.read_file(gpd.datasets.get_path('naturalearth_lowres'))\n",
    "USA = data.loc[data['name'] == 'United States of America']\n",
    "boundaries = USA['geometry'] \n",
    "axis = USA.plot(\n",
    "color = 'green', edgecolor = 'black')\n",
    "gun_data_geo.plot(ax = axis, color = 'black')\n",
    "plt.title('National Cases')\n"
   ]
  },
  {
   "cell_type": "markdown",
   "id": "7bf7cabe",
   "metadata": {},
   "source": [
    "# Closing Remarks"
   ]
  },
  {
   "cell_type": "markdown",
   "id": "c6ee69ab",
   "metadata": {},
   "source": [
    "### Based on the visualization presented above, it is found that more mass shootings have been commited by middle aged adults using legally obtained guns. "
   ]
  },
  {
   "cell_type": "markdown",
   "id": "9e989546",
   "metadata": {},
   "source": [
    "### States are more likely to not need mental health checks, background checks, registration, and stricter laws based on the gun type. "
   ]
  },
  {
   "cell_type": "markdown",
   "id": "74b577eb",
   "metadata": {},
   "source": [
    "### Throughout my data visualization process, it was easy to see what figures most affected the question athand. This allowed me to create a couple of charts that highlight where the violence is and the gun laws in that area."
   ]
  }
 ],
 "metadata": {
  "kernelspec": {
   "display_name": "Python 3 (ipykernel)",
   "language": "python",
   "name": "python3"
  },
  "language_info": {
   "codemirror_mode": {
    "name": "ipython",
    "version": 3
   },
   "file_extension": ".py",
   "mimetype": "text/x-python",
   "name": "python",
   "nbconvert_exporter": "python",
   "pygments_lexer": "ipython3",
   "version": "3.10.10"
  }
 },
 "nbformat": 4,
 "nbformat_minor": 5
}
